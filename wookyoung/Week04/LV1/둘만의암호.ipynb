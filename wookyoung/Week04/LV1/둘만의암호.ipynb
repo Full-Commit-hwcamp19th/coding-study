{
 "cells": [
  {
   "cell_type": "code",
   "execution_count": null,
   "id": "3475a446",
   "metadata": {},
   "outputs": [],
   "source": [
    "# s : 입력 문자열\n",
    "# skip : 제외해야하는 문자열\n",
    "# 97~123 : a~z의 아스키 코드\n",
    "# skip에 있는 문자열을 제외한 알파벳 목록을 구한다. 이를 skipped 라 칭한다.\n",
    "# s를 순회하며 skipped에서 현재 알파벳의 인덱스를 찾아 index 만큼 더해준다. \n",
    "# 이 때, skipped 의 총 길이를 초과한다면 그 나머지를 구한다.\n",
    "# %len(skipped)를 통해 a~z 리스트 범위를 벗어나면 처음으로 돌아가게 함\n",
    "# res에 인덱스의 알파벳을 더한다.\n",
    "def solution(s, skip, index):\n",
    "    skipped = [chr(i) for i in range(97, 123) if chr(i) not in skip]\n",
    "    res = \"\"\n",
    "    for i in s:\n",
    "        res += skipped[(skipped.index(i) + index) % len(skipped)]\n",
    "    return res"
   ]
  }
 ],
 "metadata": {
  "language_info": {
   "name": "python"
  }
 },
 "nbformat": 4,
 "nbformat_minor": 5
}
