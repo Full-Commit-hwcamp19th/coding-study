{
 "cells": [
  {
   "cell_type": "code",
   "execution_count": null,
   "id": "c8b1b494",
   "metadata": {},
   "outputs": [],
   "source": [
    "# 문제 : https://school.programmers.co.kr/learn/courses/30/lessons/120848\n",
    "\n",
    "# while 반복문을 사용하여 n보다 작을 때의 조건이 깨질때까지 반복문을 돌림(가장 큰 정수를 구해야함)\n",
    "# n과 비교할 수는 num, 카운트할 수는 answer\n",
    "# n보다 작을 경우 카운트에 +1을 하고, num에 그 수를 곱함\n",
    "# 반복문을 빠져 나올 경우 그 카운트(answer)를 반환\n",
    "def solution(n):\n",
    "    answer = 1\n",
    "    num = 1\n",
    "    while num*(answer+1) <= n:    # num*(answer+1) == (answer+1)!\n",
    "        answer += 1\n",
    "        num *= answer\n",
    "    return answer\n",
    "\n",
    "\n",
    "\n",
    "\n",
    "#예시\n",
    "# 예: n = 24 인 경우\n",
    "# 초기: answer=1, num=1\n",
    "\n",
    "# 반복 조건: 1 * (1+1) = 2 <= 24 → 참\n",
    "# answer = 2, num = 1*2 = 2 (지금 num = 2!)\n",
    "\n",
    "# 반복 조건: 2 * (2+1) = 6 <= 24 → 참\n",
    "# answer = 3, num = 2*3 = 6 (지금 num = 3!)\n",
    "\n",
    "# 반복 조건: 6 * (3+1) = 24 <= 24 → 참\n",
    "# answer = 4, num = 6*4 = 24 (지금 num = 4!)\n",
    "\n",
    "# 반복 조건: 24 * (4+1) = 120 <= 24 → 거짓 → 루프 종료\n",
    "# 반환값: answer = 4 (정답: 4! = 24 ≤ 24, 5! = 120 > 24)"
   ]
  }
 ],
 "metadata": {
  "kernelspec": {
   "display_name": "Python 3",
   "language": "python",
   "name": "python3"
  },
  "language_info": {
   "name": "python",
   "version": "3.12.3"
  }
 },
 "nbformat": 4,
 "nbformat_minor": 5
}
