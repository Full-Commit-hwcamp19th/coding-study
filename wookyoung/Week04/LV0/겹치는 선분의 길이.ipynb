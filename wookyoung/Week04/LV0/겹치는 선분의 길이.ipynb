{
 "cells": [
  {
   "cell_type": "code",
   "execution_count": null,
   "id": "8879943e",
   "metadata": {},
   "outputs": [],
   "source": [
    "# 문제 : https://school.programmers.co.kr/learn/courses/30/lessons/120876\n",
    "\n",
    "def solution(lines): # 길이가 3개이므로 lines의 리스트는 3개가 존재 \n",
    "    sets = [set(range(min(l), max(l))) for l in lines]  # 최소값(시작)부터 최댓값(끝)의 범위를 설정\n",
    "    return len((sets[0] & sets[1]) | (sets[0] & sets[2]) | (sets[1] & sets[2])) # 3개의 리스트들 중 교집합 후 합집합을 통해 길이를 구함\n",
    "\n",
    "# & = 교집합\n",
    "# | = 합집합"
   ]
  }
 ],
 "metadata": {
  "kernelspec": {
   "display_name": "Python 3",
   "language": "python",
   "name": "python3"
  },
  "language_info": {
   "name": "python",
   "version": "3.12.3"
  }
 },
 "nbformat": 4,
 "nbformat_minor": 5
}
