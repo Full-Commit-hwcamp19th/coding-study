{
 "cells": [
  {
   "cell_type": "code",
   "execution_count": null,
   "id": "e1925e57",
   "metadata": {},
   "outputs": [],
   "source": [
    "# 가장 먼저 탈락하는 사람이 몇번째 차례에 탈락하는지 \n",
    "# n : 게임에 참여하는 사람 수\n",
    "# words : 사람들이 말한 단어들이 순서대로 들어 있는 리스트\n",
    "\n",
    "def solution(n, words):\n",
    "    # i는 1부터 시작 → 첫 번째 단어(words[0])는 검사할 필요 없음\n",
    "    # words[i] : 현재 단어\n",
    "    # words[i-1] : 이전 단어\n",
    "    for i in range(1,len(words)):\n",
    "        \n",
    "        # 글자가 맞지 않을 때\n",
    "        if words[i][0] != words[i-1][-1] or words[i] in words[:i]:\n",
    "            # words[i][0] : 현재 단어의 첫 글자\n",
    "            # words[i-1][-1] : 이전 단어의 마지막 글자\n",
    "            # 같지 않으면 규칙 위반 → 탈락\n",
    "            # words[i] in words[:i] : 지금까지 나온 단어들(words[0] ~ words[i-1])에 이미                 현재 단어가 있으면 탈락\n",
    "            return [(i%n)+1, (i//n)+1]\n",
    "            # [몇번째 사람, 몇번째 차례]\n",
    "            # [순번을 n으로 나눈 나머지, 몫을 구하므로 몇바퀴 돌았는지 계산]        \n",
    "        \n",
    "    return [0,0]\n",
    "    # 끝까지 탈락자가 없다면 [0,0] 반환"
   ]
  }
 ],
 "metadata": {
  "language_info": {
   "name": "python"
  }
 },
 "nbformat": 4,
 "nbformat_minor": 5
}
