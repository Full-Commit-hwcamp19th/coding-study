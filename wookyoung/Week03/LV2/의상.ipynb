{
 "cells": [
  {
   "cell_type": "code",
   "execution_count": null,
   "id": "623f65b0",
   "metadata": {},
   "outputs": [],
   "source": [
    "# Key = 의상의 종류\n",
    "def solution(clothes):\n",
    "    answer = 1              # 곱셈 누적을 위한 초기값(항등원 1)\n",
    "\n",
    "    closet = {}             # 딕셔너리: {의상종류: 해당 종류 의상 개수}\n",
    "\n",
    "    for _, k in clothes:    # clothes의 각 원소는 [이름, 종류], 의상의 이름은 보지않고, 의상의 종류만 봄\n",
    "                            # 이름은 필요 없으니 '_'로 무시하고, 종류를 k에 받음\n",
    "        if k in closet:     # 이미 본 종류라면 개수 +1\n",
    "            closet[k] += 1\n",
    "        else:               # 처음 보는 종류라면 1로 시작\n",
    "            closet[k] = 1\n",
    "\n",
    "    # 이제 closet 예: {\"headgear\": 2, \"eyewear\": 1}\n",
    "    for k in closet:                    # 각 종류마다\n",
    "        answer *= (closet[k] + 1)       # (그 종류에서 하나 고르기 k가지) + (안 고르기 1가지)\n",
    "\n",
    "    return answer - 1       # 모든 종류에서 '안 입기'를 동시에 택한 경우(알몸) 1가지를 제외\n",
    "\n",
    "# 파이썬의 대표적인 해시 자료구조인 딕셔너리를 이용. 딕셔너리 형태로 closet을 선언하고, 반복문을 통해 주어진 clothes를 살펴봄.\n",
    "# clothes의 첫번째 열은 옷의 이름, 두번째 열은 옷의 종류임. 옷의 종류를 closet의 Key로 보고 해당 Key가 딕셔너리에 없다면 closet[k] = 1, 있다면 closet[k] += 1을 실행. \n",
    "# 즉, 종류별로 옷이 몇 개 있는지 파악\n",
    "\n",
    "# 이제 종류별로 옷들을 조합할 수 있는 경우의 수를 생각해보아야겠죠? 만약 모자가 2개(h1,h2), 상의가 2개(u1,u2)라면 몇 가지 조합이 가능할까요? \n",
    "# [h1, h2, u1, u2, h1+u1, h1+u2, h2+u1, h2+u2] --> 총 8가지가 나옵니다. 이런 식으로 여러 경우들을 생각해보았을 때, 우리는 일반항을 (x+1) * (y+1) - 1로 도출할 수 있습니다! \n",
    "# 이 일반항에 따라 answer을 구하여 return하면 되겠습니다."
   ]
  },
  {
   "cell_type": "code",
   "execution_count": null,
   "id": "cadd9d06",
   "metadata": {},
   "outputs": [],
   "source": []
  }
 ],
 "metadata": {
  "language_info": {
   "name": "python"
  }
 },
 "nbformat": 4,
 "nbformat_minor": 5
}
