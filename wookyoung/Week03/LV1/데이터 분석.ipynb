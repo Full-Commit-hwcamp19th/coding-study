{
 "cells": [
  {
   "cell_type": "code",
   "execution_count": null,
   "id": "623f65b0",
   "metadata": {},
   "outputs": [],
   "source": [
    "# 1. data에서 ext값이 val_ext보다 작은 값만 추출\n",
    "# 2. sort_by에서 remain값을 기준으로 오름차순 정렬\n",
    "\n",
    "def solution(data, ext, val_ext, sort_by):\n",
    "    answer = []                                        # 답안이 리스트형태니까 리스트 담을 변수 생성\n",
    "    dic = {'code':0,'date':1,'maximum':2,'remain':3}   # 컬럼 정보를 담음\n",
    "    \n",
    "    for i in data:\n",
    "        if i[dic[ext]] < val_ext:          # ext이 val_ext보다 작은 값들을 적재\n",
    "            answer.append(i)\n",
    "            \n",
    "    answer.sort(key=lambda x : x[dic[sort_by]])      #key=는 정렬기준값 설정, answer 리스트 안의 원소를 x로 받아서 기준값을 통한 정렬 \n",
    "    return answer\n",
    "    "
   ]
  }
 ],
 "metadata": {
  "language_info": {
   "name": "python"
  }
 },
 "nbformat": 4,
 "nbformat_minor": 5
}
