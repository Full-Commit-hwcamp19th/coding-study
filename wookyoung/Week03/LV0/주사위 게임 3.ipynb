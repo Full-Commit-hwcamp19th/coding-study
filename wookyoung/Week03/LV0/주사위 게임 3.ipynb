{
 "cells": [
  {
   "cell_type": "code",
   "execution_count": null,
   "id": "415fdccb",
   "metadata": {},
   "outputs": [],
   "source": [
    "# 첫번째 문제풀이 (틀림)\n",
    "# def solution(a, b, c, d):\n",
    "#     answer = 0\n",
    "#     if a==b==c==d:\n",
    "#         answer = 1111*a\n",
    "#     elif a==c==d:\n",
    "#         answer = (10*a+b)**2\n",
    "#     elif a==d and b==c:\n",
    "#         answer = (a+b)*abs(d-c)\n",
    "#     elif a==c:\n",
    "#         answer = b*d\n",
    "#     elif a != b != c != d :\n",
    "#         answer = c\n",
    "#     return answer\n",
    "\n",
    "\n",
    "# 두번째 문제풀이\n",
    "def solution(a, b, c, d):\n",
    "    # 리스트로 생성 후, 오름차순 정렬\n",
    "    num = sorted([a,b,c,d])\n",
    "    \n",
    "    # 1. 네 주사위 숫자가 같음\n",
    "    if num[0] == num[1] == num[2] == num[3]:\n",
    "        return 1111*num[0]\n",
    "    \n",
    "    # 2. 세 개의 숫자가 같음 (4441,1444)\n",
    "    if num[0] == num[2] or num[1] == num[3]:\n",
    "        p = num[1]   # 조건문에 공통으로 표현된값\n",
    "        q = num[3] if num[3] != num[1] else num[0]\n",
    "        return (10*p+q)**2\n",
    "    \n",
    "    # 3. 두 개씩 숫자가 같음(3366, 6633)\n",
    "    if num[0] == num[1] and num[2] == num[3]:\n",
    "        p = num[0]\n",
    "        q = num[2]\n",
    "        return (p+q) * abs(p-q)\n",
    "    \n",
    "    # 4. 두 개의 주사위만 같은 숫자 (2256, 2445, 2355)\n",
    "    if num[0] == num[1]:\n",
    "        return num[2] * num[3]\n",
    "    elif num[1] == num[2]:\n",
    "        return num[0] * num[3]\n",
    "    elif num[2] == num[3]:\n",
    "        return num[0] * num[1]\n",
    "    \n",
    "    # 5. 네 개의 주사위 모두 다를 때 가장 작은 숫자=첫번째 숫자\n",
    "    return num[0]\n"
   ]
  }
 ],
 "metadata": {
  "language_info": {
   "name": "python"
  }
 },
 "nbformat": 4,
 "nbformat_minor": 5
}
