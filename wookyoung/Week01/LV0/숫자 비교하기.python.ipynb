{
 "cells": [
  {
   "cell_type": "code",
   "execution_count": null,
   "id": "9c581fde",
   "metadata": {},
   "outputs": [],
   "source": [
    "# 이름 : 남우경\n",
    "# 날짜 : 2025.08.06\n",
    "# 문제 : https://school.programmers.co.kr/learn/courses/30/lessons/120807\n",
    "\n",
    "def solution(num1, num2):\n",
    "    if num1 == num2:\n",
    "        answer = 1\n",
    "    elif num1 != num2:\n",
    "        answer = -1\n",
    "    return answer"
   ]
  }
 ],
 "metadata": {
  "kernelspec": {
   "display_name": "Python 3",
   "language": "python",
   "name": "python3"
  },
  "language_info": {
   "name": "python",
   "version": "3.12.3"
  }
 },
 "nbformat": 4,
 "nbformat_minor": 5
}
