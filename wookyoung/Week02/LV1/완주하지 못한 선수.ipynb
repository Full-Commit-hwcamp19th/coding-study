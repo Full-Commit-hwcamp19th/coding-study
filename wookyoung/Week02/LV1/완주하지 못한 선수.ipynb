{
 "cells": [
  {
   "cell_type": "code",
   "execution_count": null,
   "id": "b45966c8",
   "metadata": {},
   "outputs": [],
   "source": [
    "# participant = 마라톤에 참여한 선수들의 이름 (n)\n",
    "# completion = 완주한 선수들의 이름 (n-1)\n",
    "# return = 완주하지 못한 선수의 이름 \n",
    "def solution(participant, completion):\n",
    "    participant.sort()\n",
    "    completion.sort()\n",
    "    for i in range(len(completion)):          # 미완주자가 중간에 있을때\n",
    "        if participant[i] != completion[i]:\n",
    "            return participant[i]\n",
    "    return participant[-1]                    # 미완주자가 마지막에 있을때\n",
    "\n",
    "# 해석\n",
    "# participant와 completion을 정렬해줌으로써 마지막 participant 값은 다른 값\n",
    "# i를 completion의 길이를 담음\n",
    "# participant[i]와 completion[i]를 비교하여 중간에 존재하는 미완주자는 반환\n",
    "# 모든 인덱스에서 이름이 같다면 participant(참가자 명단)의 마지막에 있는 선수가 완주하지 못한 사람."
   ]
  }
 ],
 "metadata": {
  "kernelspec": {
   "display_name": "Python 3",
   "language": "python",
   "name": "python3"
  },
  "language_info": {
   "name": "python",
   "version": "3.12.3"
  }
 },
 "nbformat": 4,
 "nbformat_minor": 5
}
