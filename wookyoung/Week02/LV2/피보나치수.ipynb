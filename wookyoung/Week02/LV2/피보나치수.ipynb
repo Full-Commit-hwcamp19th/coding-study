{
 "cells": [
  {
   "cell_type": "code",
   "execution_count": null,
   "id": "25f5cb1d",
   "metadata": {},
   "outputs": [],
   "source": [
    "def solution(n):\n",
    "    answer = [0,1] # 피보나치 수열의 시작값: 0번째 항은 0, 1번째 항은 1\n",
    "    \n",
    "    for i in range(2,n+1):  # 2번째 항부터 n번째 항까지 반복\n",
    "        answer.append(answer[i-1]+answer[i-2])  # 이전 두 항을 더해 현재 항을 리스트에 추가하여 축적\n",
    "        \n",
    "    return answer[-1] % 1234567  # n번째 피보나치 수를 1234567로 나눈 나머지 반환\n",
    "\n",
    "\n",
    "#  answer = [0,1]은 피보나치 수열 계산을 위한 초기값 세팅"
   ]
  }
 ],
 "metadata": {
  "kernelspec": {
   "display_name": "Python 3",
   "language": "python",
   "name": "python3"
  },
  "language_info": {
   "name": "python",
   "version": "3.12.3"
  }
 },
 "nbformat": 4,
 "nbformat_minor": 5
}
