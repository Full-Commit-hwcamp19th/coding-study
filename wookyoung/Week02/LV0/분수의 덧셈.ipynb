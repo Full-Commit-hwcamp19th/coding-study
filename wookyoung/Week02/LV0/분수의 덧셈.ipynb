{
 "cells": [
  {
   "cell_type": "code",
   "execution_count": null,
   "id": "afa27bd7",
   "metadata": {},
   "outputs": [],
   "source": [
    "# Fraction은 분수를 활용할 때 사용하는 함수\n",
    "# Fraction(분자,분모)\n",
    "# numerator를 통해 분자를 구하고, denominator를 통해 분모를 구함\n",
    "\n",
    "from fractions import Fraction\n",
    "def solution(numer1, denom1, numer2, denom2):\n",
    "    answer = Fraction(numer1, denom1) + Fraction(numer2, denom2)\n",
    "    return [answer.numerator, answer.denominator]\n",
    "\n",
    "\n",
    "\n",
    "## 다른 사람들의 풀이(최대공약수 함수 사용) \n",
    "# https://velog.io/@poooq/%ED%94%84%EB%A1%9C%EA%B7%B8%EB%9E%98%EB%A8%B8%EC%8A%A4python%EB%B6%84%EC%88%98%EC%9D%98-%EB%8D%A7%EC%85%88 #\n",
    "# math.gcd 설명 URL : https://blockdmask.tistory.com/525 #\n",
    "# import math\n",
    "\n",
    "# import math\n",
    "# def solution(numer1, denom1, numer2, denom2):\n",
    "#     numer = numer1*denom2 + numer2*denom1\n",
    "#     denom = denom1 * denom2\n",
    "#     gcd = math.gcd(numer,denom)\n",
    "    \n",
    "#     return numer/gcd, denom/gcd"
   ]
  }
 ],
 "metadata": {
  "language_info": {
   "name": "python"
  }
 },
 "nbformat": 4,
 "nbformat_minor": 5
}
