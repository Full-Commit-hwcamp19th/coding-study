{
 "cells": [
  {
   "cell_type": "code",
   "execution_count": null,
   "id": "b3cd3728",
   "metadata": {},
   "outputs": [],
   "source": [
    "def solution(order):\n",
    "    answer = 0\n",
    "    for i in order:\n",
    "        if 'americano' in i:\n",
    "            answer += 4500\n",
    "        elif 'latte' in i:\n",
    "            answer += 5000\n",
    "        elif 'anything' in i:\n",
    "            answer += 4500\n",
    "    return answer"
   ]
  }
 ],
 "metadata": {
  "kernelspec": {
   "display_name": "Python 3",
   "language": "python",
   "name": "python3"
  },
  "language_info": {
   "name": "python",
   "version": "3.12.3"
  }
 },
 "nbformat": 4,
 "nbformat_minor": 5
}
