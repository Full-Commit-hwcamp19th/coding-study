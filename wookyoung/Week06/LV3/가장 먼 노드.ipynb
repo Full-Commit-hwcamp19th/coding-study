{
 "cells": [
  {
   "cell_type": "code",
   "execution_count": null,
   "id": "3b1f1b81",
   "metadata": {},
   "outputs": [],
   "source": [
    "# https://velog.io/@mino0121/ProgrammersPython-Graph-%EA%B0%80%EC%9E%A5-%EB%A8%BC-%EB%85%B8%EB%93%9C\n",
    "\n",
    "from collections import deque\n",
    "\n",
    "def solution(n, edge):\n",
    "    edge = sorted(edge)  # [[1, 2], [1, 3], [2, 4], [3, 2], [3, 6], [4, 3], [5, 2]]\n",
    "    distance = [0] * (n+1) # 각 노드별로 노드 1부터의 거리\n",
    "    queue = deque()\n",
    "    graph = [[] for _ in range(n+1)]\n",
    "    answer = 0\n",
    "\n",
    "    for i in edge:  # 인접 리스트 방식으로 그래프 구현\n",
    "        graph[i[0]].append(i[1])\n",
    "        graph[i[1]].append(i[0])\n",
    "\n",
    "    queue.append(1)  # 큐에 첫 번째로 방문할 노드 번호를 추가\n",
    "    distance[1]=1  # 방문한 노드의 거리를 1로 설정\n",
    "\n",
    "    while queue:\n",
    "        current = queue.popleft()\n",
    "        for node in graph[current]:\n",
    "            if distance[node] == 0:  # 방문 여부를 확인하고, 방문한 적이 없는 경우\n",
    "                queue.append(node)  # 노드를 큐에 추가\n",
    "                distance[node] = distance[current] + 1  # 해당 노드의 값을 현재 노드의 값에 1을 더한 값으로 변경\n",
    "\n",
    "    max_distance = max(distance)  # distance에서 최댓값을 찾은 후 해당 값과 동일한 요소의 개수만큼 answer에 더한다.\n",
    "    for j in distance:\n",
    "        if j == max_distance:\n",
    "            answer += 1\n",
    "    return answer"
   ]
  }
 ],
 "metadata": {
  "language_info": {
   "name": "python"
  }
 },
 "nbformat": 4,
 "nbformat_minor": 5
}
