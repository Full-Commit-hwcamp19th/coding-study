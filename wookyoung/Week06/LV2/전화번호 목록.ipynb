{
 "cells": [
  {
   "cell_type": "code",
   "execution_count": null,
   "id": "34385db6",
   "metadata": {},
   "outputs": [],
   "source": [
    "# https://un-lazy-midnight.tistory.com/74\n",
    "\n",
    "def solution(phone_book):\n",
    "    phone_book.sort()\n",
    "    for i in range(len(phone_book)-1):\n",
    "        if phone_book[i] == phone_book[i+1][:len(phone_book[i])]: \n",
    "                    # phone_book[i+1]의 앞부분(맨 앞부터 phone_book[i] 길이만큼)만 잘라냄.\n",
    "            return False\n",
    "    return True"
   ]
  }
 ],
 "metadata": {
  "language_info": {
   "name": "python"
  }
 },
 "nbformat": 4,
 "nbformat_minor": 5
}
