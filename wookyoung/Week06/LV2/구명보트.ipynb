{
 "cells": [
  {
   "cell_type": "code",
   "execution_count": null,
   "id": "364b4d72",
   "metadata": {},
   "outputs": [],
   "source": [
    "# https://velog.io/@sem/%ED%94%84%EB%A1%9C%EA%B7%B8%EB%9E%98%EB%A8%B8%EC%8A%A4-LEVEL2-%EA%B5%AC%EB%AA%85%EB%B3%B4%ED%8A%B8-Python\n",
    "# https://liveloper-jay.tistory.com/139\n",
    "\n",
    "#문제 : https://school.programmers.co.kr/learn/courses/30/lessons/42885\n",
    "\n",
    "def solution(people, limit) :\n",
    "    answer = 0\n",
    "    people.sort()\n",
    "\n",
    "    a = 0\n",
    "    b = len(people) - 1\n",
    "    while a < b :\n",
    "        if people[b] + people[a] <= limit :\n",
    "            a += 1\n",
    "            answer += 1\n",
    "        b -= 1\n",
    "    return len(people) - answer\n",
    "\n",
    "\n",
    "\n",
    "\n",
    "\n",
    "# def solution(people, limit):\n",
    "#     answer = 0\n",
    "#     answer2 = 0\n",
    "#     for i in people:\n",
    "#         for j in people:\n",
    "#             if i+j <= 100:\n",
    "#                 answer += 1\n",
    "#         if i <= 100:\n",
    "#             answer2 += 1\n",
    "#     return answer + answer2"
   ]
  }
 ],
 "metadata": {
  "language_info": {
   "name": "python"
  }
 },
 "nbformat": 4,
 "nbformat_minor": 5
}
