{
 "cells": [
  {
   "cell_type": "code",
   "execution_count": null,
   "id": "32236d3f",
   "metadata": {},
   "outputs": [],
   "source": [
    "#문제 : https://school.programmers.co.kr/learn/courses/30/lessons/42746\n",
    "#https://liveloper-jay.tistory.com/138\n",
    "\n",
    "def solution(numbers):\n",
    "    answer = ''\n",
    "    num_str = list(map(str,numbers))\n",
    "    num_str.sort(key=lambda x:x*3, reverse=True) #666,222,101010\n",
    "    \n",
    "    # result = ''.join(num_str)\n",
    "    for i in num_str:\n",
    "        answer += i\n",
    "    \n",
    "    return str(int(answer))\n",
    "\n",
    "\n",
    "\n",
    "\n",
    "\n",
    "\n",
    "\n",
    "    # for i in numbers:\n",
    "    #     answer += str(i)\n",
    "\n",
    "# from itertools import permutations\n",
    "# print(max(int(''.join(map(str, p))) for p in permutations(numbers)))\n",
    "\n"
   ]
  }
 ],
 "metadata": {
  "language_info": {
   "name": "python"
  }
 },
 "nbformat": 4,
 "nbformat_minor": 5
}
