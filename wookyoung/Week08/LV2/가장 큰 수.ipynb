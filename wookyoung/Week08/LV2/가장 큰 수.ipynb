{
 "cells": [
  {
   "cell_type": "code",
   "execution_count": null,
   "id": "32236d3f",
   "metadata": {},
   "outputs": [],
   "source": [
    "#문제 : https://school.programmers.co.kr/learn/courses/30/lessons/42746\n",
    "#https://liveloper-jay.tistory.com/138\n",
    "\n",
    "def solution(numbers):\n",
    "    answer = ''\n",
    "    num_str = list(map(str,numbers))\n",
    "    num_str.sort(key=lambda x:x*3, reverse=True)    #문자열비교\n",
    "    #3과 30 => 333, 303030 \n",
    "    #666,222,101010 (6>2>1)\n",
    "    \n",
    "    for i in num_str:\n",
    "        answer += i\n",
    "    \n",
    "    return str(int(answer))\n",
    "\n",
    "\n",
    "\n",
    "# result = ''.join(num_str)\n",
    "\n",
    "#틀린풀이1\n",
    "# for i in numbers:\n",
    "#     answer += str(i)\n",
    "\n",
    "#방법2\n",
    "# from itertools import permutations\n",
    "# print(max(int(''.join(map(str, p))) for p in permutations(numbers)))\n",
    "\n",
    "\n",
    "#파이썬 문자열비교(사전순) => 문자열을 왼쪽부터 순서대로 한글자씩 비교함\n"
   ]
  }
 ],
 "metadata": {
  "language_info": {
   "name": "python"
  }
 },
 "nbformat": 4,
 "nbformat_minor": 5
}
