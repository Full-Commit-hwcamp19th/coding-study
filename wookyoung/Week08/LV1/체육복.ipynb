{
 "cells": [
  {
   "cell_type": "code",
   "execution_count": null,
   "id": "b1e91586",
   "metadata": {},
   "outputs": [],
   "source": [
    "# 문제 : https://school.programmers.co.kr/learn/courses/30/lessons/42862\n",
    "\n",
    "# 1\n",
    "# 1->2\n",
    "# 3\n",
    "# 3->4 or 5->4\n",
    "# 5\n",
    "\n",
    "\n",
    "# 1\n",
    "# 3->2 or 3->4\n",
    "# 3\n",
    "# 5\n",
    "\n",
    "# 1\n",
    "# 2\n",
    "\n",
    "def solution(n, lost, reserve):\n",
    "    #겹치는 번호 제거함\n",
    "    reserve_set = set(reserve)-set(lost)    #빌려줄수있는 학생들\n",
    "    lost_set = set(lost)-set(reserve)       #빌려야되는 학생들\n",
    "    \n",
    "    for r in reserve_set:\n",
    "        if r-1 in lost_set:\n",
    "            lost_set.remove(r-1) #앞번호 빌려줌\n",
    "        elif r+1 in lost_set:\n",
    "            lost_set.remove(r+1) #뒷번호\n",
    "            \n",
    "    return n-len(lost_set)\n",
    "\n"
   ]
  }
 ],
 "metadata": {
  "language_info": {
   "name": "python"
  }
 },
 "nbformat": 4,
 "nbformat_minor": 5
}
