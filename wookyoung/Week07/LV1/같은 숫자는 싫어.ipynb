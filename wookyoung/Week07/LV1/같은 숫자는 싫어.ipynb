{
 "cells": [
  {
   "cell_type": "code",
   "execution_count": null,
   "id": "ee4ac68d",
   "metadata": {},
   "outputs": [],
   "source": [
    "# 문제 : https://school.programmers.co.kr/learn/courses/30/lessons/12906\n",
    "\n",
    "def solution(arr):\n",
    "    answer = []\n",
    "    for i in range(len(arr)):\n",
    "        if [arr[i]] != arr[i + 1: i + 2]:   #arr배열의 i번째와 arr배열의 i+1번째를 리스트형태로 비교\n",
    "            answer.append(arr[i])\n",
    "    return answer"
   ]
  }
 ],
 "metadata": {
  "language_info": {
   "name": "python"
  }
 },
 "nbformat": 4,
 "nbformat_minor": 5
}
