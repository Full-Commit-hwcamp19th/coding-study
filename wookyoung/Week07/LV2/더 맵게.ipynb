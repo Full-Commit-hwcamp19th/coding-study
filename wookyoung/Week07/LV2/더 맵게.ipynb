{
 "cells": [
  {
   "cell_type": "code",
   "execution_count": null,
   "id": "341daf30",
   "metadata": {},
   "outputs": [],
   "source": [
    "# 문제 : https://school.programmers.co.kr/learn/courses/30/lessons/42626\n",
    "# SOL 1-1) 힙(heap) 자료구조 이용, try / except IndexError 이용\n",
    "# 힙을 사용하는 이유 : 일반적인 리스트와 달리 push(), pop() 이후 자동 정렬\n",
    "import heapq\n",
    "\n",
    "def solution(scoville, K):\n",
    "    answer = 0\n",
    "    mix_scoville = 0\n",
    "    heapq.heapify(scoville)         # 최초 리스트에서 힙 정렬\n",
    "    \n",
    "    while scoville[0] < K:          # 스코빌이 기준점 넘어가면 반복 종료\n",
    "        if(len(scoville)<2):        # 스코빌 지수 하나 남았을 때 더 이상 불가하므로 -1 리턴\n",
    "            return -1\n",
    "        mix_scoville = heapq.heappop(scoville) + (heapq.heappop(scoville)*2)\n",
    "        heapq.heappush(scoville,mix_scoville)           \n",
    "        answer +=1                          \n",
    "       # 그 외에는 스코빌 계산하면서 값 빼주고 나온값 push\n",
    "        \n",
    "    return answer\n",
    "\n",
    "\n",
    "\n",
    "\n",
    "#https://liveloper-jay.tistory.com/137\n",
    "#1. heappush(heap, item) : 1. 힙 특성이 유지되면서 \"다음 최솟값\"을 빠르게 얻을 수 있음\n",
    "#                          2. 힙 불변성을 유지하면서, item 값을 heap으로 푸시합니다.\n",
    "#2.  heappop(heap) : 1. \"항상 현재 가장 작은 원소\"를 꺼낼 수 있음\n",
    "#                    2. 힙 불변성을 유지하면서, heap에서 가장 작은 항목을 팝하고 반환합니다. 힙이 비어 있으면, IndexError가 발생합니다. \n",
    "#3. heapify(x) : 리스트 x를 선형 시간으로 제자리에서 힙으로 변환합니다."
   ]
  }
 ],
 "metadata": {
  "kernelspec": {
   "display_name": "Python 3",
   "language": "python",
   "name": "python3"
  },
  "language_info": {
   "codemirror_mode": {
    "name": "ipython",
    "version": 3
   },
   "file_extension": ".py",
   "mimetype": "text/x-python",
   "name": "python",
   "nbconvert_exporter": "python",
   "pygments_lexer": "ipython3",
   "version": "3.12.3"
  }
 },
 "nbformat": 4,
 "nbformat_minor": 5
}
