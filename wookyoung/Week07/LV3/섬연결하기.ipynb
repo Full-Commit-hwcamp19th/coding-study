{
 "cells": [
  {
   "cell_type": "code",
   "execution_count": null,
   "id": "785c8bec",
   "metadata": {},
   "outputs": [],
   "source": [
    "# 문제 : https://school.programmers.co.kr/learn/courses/30/lessons/42861\n",
    "def solution(n, costs):\n",
    "    costs = sorted(costs, key=lambda x:x[2])\n",
    "    parents = [i for i in range(n)]\n",
    "    \n",
    "    def find_parent(parents, x):\n",
    "        if parents[x] != x:\n",
    "            parents[x] = find_parent(parents, parents[x])\n",
    "        return parents[x]\n",
    "\n",
    "    def union_elems(parents, x, y):\n",
    "        x = find_parent(parents, x)\n",
    "        y = find_parent(parents, y)\n",
    "        \n",
    "        if x < y:\n",
    "            parents[y] = x\n",
    "        else:\n",
    "            parents[x] = y\n",
    "    \n",
    "    answer = 0\n",
    "    for a,b,cost in costs:\n",
    "        if find_parent(parents, a) != find_parent(parents, b):\n",
    "            answer += cost\n",
    "            union_elems(parents, a, b)\n",
    "    return answer\n",
    "\n",
    "#https://velog.io/@cku7808/%ED%94%84%EB%A1%9C%EA%B7%B8%EB%9E%98%EB%A8%B8%EC%8A%A4Python-%EC%84%AC-%EC%97%B0%EA%B2%B0%ED%95%98%EA%B8%B0"
   ]
  }
 ],
 "metadata": {
  "language_info": {
   "name": "python"
  }
 },
 "nbformat": 4,
 "nbformat_minor": 5
}
