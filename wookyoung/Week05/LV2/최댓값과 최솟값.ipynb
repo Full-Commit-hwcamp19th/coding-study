{
 "cells": [
  {
   "cell_type": "code",
   "execution_count": null,
   "id": "7a9afd54",
   "metadata": {},
   "outputs": [],
   "source": [
    "# 문제 : https://school.programmers.co.kr/learn/courses/30/lessons/12939\n",
    "\n",
    "def solution(s):\n",
    "    answer = []\n",
    "    sp =  s.split()          # 구분자로 변환\n",
    "    sp2 = list(map(int,sp))  # 리스트 내 문자열을 정수형으로 변환\n",
    "    sp2min = str(min(sp2))\n",
    "    sp2max = str(max(sp2))\n",
    "    \n",
    "    answer.append(sp2min)\n",
    "    answer.append(sp2max)\n",
    "    answer1 = \" \".join(answer)  # 공백으로 구분\n",
    "    return answer1\n",
    "\n",
    "# <틀린 풀이1>\n",
    "    # def solution(s):\n",
    "#     answer = ''\n",
    "#     sp = s.split()\n",
    "#     for i in sp:\n",
    "#         if i.min():\n",
    "#             answer.append(i)\n",
    "#         else i.max():\n",
    "#             answer.append(i)\n",
    "#     return answer\n",
    "\n",
    "# <틀린 풀이2>\n",
    "    # for i in sp2min:\n",
    "    #     for j in sp2max:\n",
    "    #         answer.append(i,j)\n",
    "\n",
    "# join()메서드는 모든 리스트 요소가 문자열타입이어야함\n",
    "# 공백 없이 연결: \"\".join(리스트)\n",
    "# 공백으로 구분: \" \".join(리스트)\n",
    "# 특정 문자로 구분: \"-\".join(리스트)\n",
    "# 줄바꿈으로 구분: \"\\n\".join(리스트)\n",
    "\n",
    "## 구분자.join(리스트) : 리스트 내 문자열들을 구분하게 해줌 \n",
    "## map(타입,리스트) : 리스트 내 타입변경이 가능함 \n",
    "\n"
   ]
  }
 ],
 "metadata": {
  "language_info": {
   "name": "python"
  }
 },
 "nbformat": 4,
 "nbformat_minor": 5
}
