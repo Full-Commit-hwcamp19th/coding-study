{
 "cells": [
  {
   "cell_type": "code",
   "execution_count": null,
   "id": "7f808a59",
   "metadata": {},
   "outputs": [],
   "source": [
    "# 문제 : https://school.programmers.co.kr/learn/courses/30/lessons/1845\n",
    "\n",
    "# 포켓몬 중 n/2마리 가져갈수있음 (ex, 배열의 길이가 전체 4이면 2마리만 가질수있음)\n",
    "# 같은 종류의 포켓몬은 같은 번호를 가지고 있음\n",
    "# 가장 많은 종류의 폰켓몬을 선택하고, 그때의 폰켓몬 종류 번호의 개수를 return\n",
    "# Q : 서로 다른 수를 가져오고, 중복처리?  \n",
    "# https://dduniverse.tistory.com/entry/%ED%94%84%EB%A1%9C%EA%B7%B8%EB%9E%98%EB%A8%B8%EC%8A%A4-%ED%8F%B0%EC%BC%93%EB%AA%AC-%ED%8C%8C%EC%9D%B4%EC%8D%AC-python\n",
    "\n",
    "def solution(nums):\n",
    "    answer = len(set(nums))\n",
    "    if answer > len(nums)/2:\n",
    "        return len(nums)/2\n",
    "    return answer    \n"
   ]
  }
 ],
 "metadata": {
  "language_info": {
   "name": "python"
  }
 },
 "nbformat": 4,
 "nbformat_minor": 5
}
