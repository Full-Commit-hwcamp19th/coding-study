{
 "cells": [
  {
   "cell_type": "code",
   "execution_count": null,
   "id": "85683426",
   "metadata": {},
   "outputs": [],
   "source": [
    "## 문제 : https://school.programmers.co.kr/learn/courses/30/lessons/68644\n",
    "\n",
    "\n",
    "def solution(numbers):\n",
    "    answer = []\n",
    "    numbers = sorted(numbers)   # 입력값을 정렬\n",
    "    \n",
    "    for i in range(len(numbers)):               # 첫번째 수 부터 끝까지 순회\n",
    "        for j in range(i+1, len(numbers)):      # i+1은 i의 다음번째를 의미함(i의 1만큼 다음부터 끝까지 순회(i는 첫번째 수))\n",
    "            answer.append(numbers[i] + numbers[j])     \n",
    "    return sorted(set(answer))      # 정렬 및 중복제거"
   ]
  }
 ],
 "metadata": {
  "language_info": {
   "name": "python"
  }
 },
 "nbformat": 4,
 "nbformat_minor": 5
}
