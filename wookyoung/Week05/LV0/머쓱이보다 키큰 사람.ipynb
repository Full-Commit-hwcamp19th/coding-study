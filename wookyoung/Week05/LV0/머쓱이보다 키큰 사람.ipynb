{
 "cells": [
  {
   "cell_type": "code",
   "execution_count": null,
   "id": "3c31d1b0",
   "metadata": {},
   "outputs": [],
   "source": [
    "## 문제 : https://school.programmers.co.kr/learn/courses/30/lessons/120585\n",
    "\n",
    "# array = 머쓱이네 반 친구들의 키가 담긴 정수 배열\n",
    "# height 머쓱이의 키\n",
    "# Q = 머쓱이보다 키 큰 사람 수\n",
    "# R = array를 순회하며 조건문을 통해 1씩 증가\n",
    "\n",
    "def solution(array, height):\n",
    "    answer = 0\n",
    "    for i in array:\n",
    "        if i > height:\n",
    "            answer += 1\n",
    "    return answer"
   ]
  }
 ],
 "metadata": {
  "kernelspec": {
   "display_name": "Python 3",
   "language": "python",
   "name": "python3"
  },
  "language_info": {
   "name": "python",
   "version": "3.12.3"
  }
 },
 "nbformat": 4,
 "nbformat_minor": 5
}
