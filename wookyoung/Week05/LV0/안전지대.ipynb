{
 "cells": [
  {
   "cell_type": "code",
   "execution_count": null,
   "id": "e11b9e91",
   "metadata": {},
   "outputs": [],
   "source": [
    "# 문제 : https://school.programmers.co.kr/learn/courses/30/lessons/120866\n",
    "# https://wise-99.tistory.com/19\n",
    "\n",
    "\n",
    "def solution(board):\n",
    "    N = len(board)\n",
    "    dx = [-1, 1, 0, 0, -1, -1, 1, 1] # 8방향 탐색\n",
    "    dy = [0, 0, -1, 1, -1, 1, -1, 1]\n",
    "    \n",
    "    # 지뢰 설치\n",
    "    boom = []\n",
    "    for i in range(len(board)):\n",
    "        for j in range(len(board)):\n",
    "            if board[i][j] == 1:\n",
    "                boom.append((i,j)) # 지뢰일때의 인덱스 append\n",
    "                \n",
    "    # 지뢰가 설치된 곳 주변에 폭탄 설치\n",
    "    for x, y in boom:\n",
    "        for i in range(8):\n",
    "            nx = x + dx[i]\n",
    "            ny = y + dy[i]\n",
    "            if 0 <= nx < N and 0 <= ny < N:\n",
    "                board[nx][ny] = 1\n",
    "\n",
    "    # 폭탄이 설치되지 않은 곳만 카운팅\n",
    "    count = 0\n",
    "    for x in range(N):\n",
    "        for y in range(N):\n",
    "            if board[x][y] == 0:\n",
    "                count += 1\n",
    "    return count\n",
    "\n"
   ]
  }
 ],
 "metadata": {
  "language_info": {
   "name": "python"
  }
 },
 "nbformat": 4,
 "nbformat_minor": 5
}
